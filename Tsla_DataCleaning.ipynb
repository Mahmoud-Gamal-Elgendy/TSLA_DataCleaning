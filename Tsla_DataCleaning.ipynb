{
 "cells": [
  {
   "cell_type": "markdown",
   "id": "87dbd85b",
   "metadata": {},
   "source": [
    "## 1- Install packages "
   ]
  },
  {
   "cell_type": "code",
   "execution_count": null,
   "id": "292f81d2",
   "metadata": {},
   "outputs": [],
   "source": [
    "!pip install yfinance"
   ]
  },
  {
   "cell_type": "code",
   "execution_count": null,
   "id": "7ff708f4",
   "metadata": {},
   "outputs": [],
   "source": [
    "!pip install seaborn"
   ]
  },
  {
   "cell_type": "markdown",
   "id": "00f6b382",
   "metadata": {},
   "source": [
    "## 2- Import the Libraries and put an alias name "
   ]
  },
  {
   "cell_type": "code",
   "execution_count": 3,
   "id": "ec69f775",
   "metadata": {},
   "outputs": [],
   "source": [
    "import yfinance as yf\n",
    "import pandas as pd \n",
    "import seaborn as sb"
   ]
  },
  {
   "cell_type": "markdown",
   "id": "a1554498",
   "metadata": {},
   "source": [
    "## 3- Get Last Five Years data about *TSLA* "
   ]
  },
  {
   "cell_type": "code",
   "execution_count": null,
   "id": "d445616f",
   "metadata": {},
   "outputs": [],
   "source": [
    "tsla=yf.Ticker(\"tsla\")\n",
    "tsla.history(\"5y\")"
   ]
  },
  {
   "cell_type": "markdown",
   "id": "0d0bcc84",
   "metadata": {},
   "source": [
    "## 4- Store this data into DataFrame "
   ]
  },
  {
   "cell_type": "code",
   "execution_count": 5,
   "id": "3303b88b",
   "metadata": {},
   "outputs": [
    {
     "data": {
      "text/html": [
       "<div>\n",
       "<style scoped>\n",
       "    .dataframe tbody tr th:only-of-type {\n",
       "        vertical-align: middle;\n",
       "    }\n",
       "\n",
       "    .dataframe tbody tr th {\n",
       "        vertical-align: top;\n",
       "    }\n",
       "\n",
       "    .dataframe thead th {\n",
       "        text-align: right;\n",
       "    }\n",
       "</style>\n",
       "<table border=\"1\" class=\"dataframe\">\n",
       "  <thead>\n",
       "    <tr style=\"text-align: right;\">\n",
       "      <th></th>\n",
       "      <th>Open</th>\n",
       "      <th>High</th>\n",
       "      <th>Low</th>\n",
       "      <th>Close</th>\n",
       "      <th>Volume</th>\n",
       "      <th>Dividends</th>\n",
       "      <th>Stock Splits</th>\n",
       "    </tr>\n",
       "    <tr>\n",
       "      <th>Date</th>\n",
       "      <th></th>\n",
       "      <th></th>\n",
       "      <th></th>\n",
       "      <th></th>\n",
       "      <th></th>\n",
       "      <th></th>\n",
       "      <th></th>\n",
       "    </tr>\n",
       "  </thead>\n",
       "  <tbody>\n",
       "    <tr>\n",
       "      <th>2018-10-03 00:00:00-04:00</th>\n",
       "      <td>20.222000</td>\n",
       "      <td>20.306667</td>\n",
       "      <td>19.438000</td>\n",
       "      <td>19.653334</td>\n",
       "      <td>119925000</td>\n",
       "      <td>0.0</td>\n",
       "      <td>0.0</td>\n",
       "    </tr>\n",
       "    <tr>\n",
       "      <th>2018-10-04 00:00:00-04:00</th>\n",
       "      <td>19.596666</td>\n",
       "      <td>19.600000</td>\n",
       "      <td>18.511333</td>\n",
       "      <td>18.788668</td>\n",
       "      <td>147213000</td>\n",
       "      <td>0.0</td>\n",
       "      <td>0.0</td>\n",
       "    </tr>\n",
       "    <tr>\n",
       "      <th>2018-10-05 00:00:00-04:00</th>\n",
       "      <td>18.309999</td>\n",
       "      <td>18.325333</td>\n",
       "      <td>17.333332</td>\n",
       "      <td>17.463333</td>\n",
       "      <td>269167500</td>\n",
       "      <td>0.0</td>\n",
       "      <td>0.0</td>\n",
       "    </tr>\n",
       "    <tr>\n",
       "      <th>2018-10-08 00:00:00-04:00</th>\n",
       "      <td>17.634666</td>\n",
       "      <td>17.850668</td>\n",
       "      <td>16.600000</td>\n",
       "      <td>16.704000</td>\n",
       "      <td>202090500</td>\n",
       "      <td>0.0</td>\n",
       "      <td>0.0</td>\n",
       "    </tr>\n",
       "    <tr>\n",
       "      <th>2018-10-09 00:00:00-04:00</th>\n",
       "      <td>17.016666</td>\n",
       "      <td>17.784666</td>\n",
       "      <td>16.886667</td>\n",
       "      <td>17.520000</td>\n",
       "      <td>180909000</td>\n",
       "      <td>0.0</td>\n",
       "      <td>0.0</td>\n",
       "    </tr>\n",
       "    <tr>\n",
       "      <th>...</th>\n",
       "      <td>...</td>\n",
       "      <td>...</td>\n",
       "      <td>...</td>\n",
       "      <td>...</td>\n",
       "      <td>...</td>\n",
       "      <td>...</td>\n",
       "      <td>...</td>\n",
       "    </tr>\n",
       "    <tr>\n",
       "      <th>2023-09-26 00:00:00-04:00</th>\n",
       "      <td>242.979996</td>\n",
       "      <td>249.550003</td>\n",
       "      <td>241.660004</td>\n",
       "      <td>244.119995</td>\n",
       "      <td>101993600</td>\n",
       "      <td>0.0</td>\n",
       "      <td>0.0</td>\n",
       "    </tr>\n",
       "    <tr>\n",
       "      <th>2023-09-27 00:00:00-04:00</th>\n",
       "      <td>244.259995</td>\n",
       "      <td>245.330002</td>\n",
       "      <td>234.580002</td>\n",
       "      <td>240.500000</td>\n",
       "      <td>136597200</td>\n",
       "      <td>0.0</td>\n",
       "      <td>0.0</td>\n",
       "    </tr>\n",
       "    <tr>\n",
       "      <th>2023-09-28 00:00:00-04:00</th>\n",
       "      <td>240.020004</td>\n",
       "      <td>247.550003</td>\n",
       "      <td>238.649994</td>\n",
       "      <td>246.380005</td>\n",
       "      <td>117058900</td>\n",
       "      <td>0.0</td>\n",
       "      <td>0.0</td>\n",
       "    </tr>\n",
       "    <tr>\n",
       "      <th>2023-09-29 00:00:00-04:00</th>\n",
       "      <td>250.000000</td>\n",
       "      <td>254.770004</td>\n",
       "      <td>246.350006</td>\n",
       "      <td>250.220001</td>\n",
       "      <td>128346200</td>\n",
       "      <td>0.0</td>\n",
       "      <td>0.0</td>\n",
       "    </tr>\n",
       "    <tr>\n",
       "      <th>2023-10-02 00:00:00-04:00</th>\n",
       "      <td>244.809998</td>\n",
       "      <td>254.279999</td>\n",
       "      <td>242.619995</td>\n",
       "      <td>251.600006</td>\n",
       "      <td>123588100</td>\n",
       "      <td>0.0</td>\n",
       "      <td>0.0</td>\n",
       "    </tr>\n",
       "  </tbody>\n",
       "</table>\n",
       "<p>1257 rows × 7 columns</p>\n",
       "</div>"
      ],
      "text/plain": [
       "                                 Open        High         Low       Close  \\\n",
       "Date                                                                        \n",
       "2018-10-03 00:00:00-04:00   20.222000   20.306667   19.438000   19.653334   \n",
       "2018-10-04 00:00:00-04:00   19.596666   19.600000   18.511333   18.788668   \n",
       "2018-10-05 00:00:00-04:00   18.309999   18.325333   17.333332   17.463333   \n",
       "2018-10-08 00:00:00-04:00   17.634666   17.850668   16.600000   16.704000   \n",
       "2018-10-09 00:00:00-04:00   17.016666   17.784666   16.886667   17.520000   \n",
       "...                               ...         ...         ...         ...   \n",
       "2023-09-26 00:00:00-04:00  242.979996  249.550003  241.660004  244.119995   \n",
       "2023-09-27 00:00:00-04:00  244.259995  245.330002  234.580002  240.500000   \n",
       "2023-09-28 00:00:00-04:00  240.020004  247.550003  238.649994  246.380005   \n",
       "2023-09-29 00:00:00-04:00  250.000000  254.770004  246.350006  250.220001   \n",
       "2023-10-02 00:00:00-04:00  244.809998  254.279999  242.619995  251.600006   \n",
       "\n",
       "                              Volume  Dividends  Stock Splits  \n",
       "Date                                                           \n",
       "2018-10-03 00:00:00-04:00  119925000        0.0           0.0  \n",
       "2018-10-04 00:00:00-04:00  147213000        0.0           0.0  \n",
       "2018-10-05 00:00:00-04:00  269167500        0.0           0.0  \n",
       "2018-10-08 00:00:00-04:00  202090500        0.0           0.0  \n",
       "2018-10-09 00:00:00-04:00  180909000        0.0           0.0  \n",
       "...                              ...        ...           ...  \n",
       "2023-09-26 00:00:00-04:00  101993600        0.0           0.0  \n",
       "2023-09-27 00:00:00-04:00  136597200        0.0           0.0  \n",
       "2023-09-28 00:00:00-04:00  117058900        0.0           0.0  \n",
       "2023-09-29 00:00:00-04:00  128346200        0.0           0.0  \n",
       "2023-10-02 00:00:00-04:00  123588100        0.0           0.0  \n",
       "\n",
       "[1257 rows x 7 columns]"
      ]
     },
     "execution_count": 5,
     "metadata": {},
     "output_type": "execute_result"
    }
   ],
   "source": [
    "tsla_dataframe=pd.DataFrame(tsla.history(\"5y\"),columns=[\"Open\",\"High\",\"Low\",\"Close\",\"Volume\",\"Dividends\",\"Stock Splits\"])\n",
    "tsla_dataframe"
   ]
  },
  {
   "cell_type": "markdown",
   "id": "2006bcf9",
   "metadata": {},
   "source": [
    "## 5- Data representation using histplot Function "
   ]
  },
  {
   "cell_type": "code",
   "execution_count": 11,
   "id": "59fb93db",
   "metadata": {},
   "outputs": [
    {
     "data": {
      "text/plain": [
       "<Axes: xlabel='Close', ylabel='Count'>"
      ]
     },
     "execution_count": 11,
     "metadata": {},
     "output_type": "execute_result"
    },
    {
     "data": {
      "image/png": "[encoded data removed]",
      "text/plain": [
       "<Figure size 640x480 with 1 Axes>"
      ]
     },
     "metadata": {},
     "output_type": "display_data"
    }
   ],
   "source": [
    "sb.histplot(data=tsla_dataframe,x=\"Close\",kde=True)"
   ]
  },
  {
   "cell_type": "markdown",
   "id": "40697ff7",
   "metadata": {},
   "source": [
    "## 6- Remove the outlier values based on the Close column"
   ]
  },
  {
   "cell_type": "code",
   "execution_count": 6,
   "id": "48476fca",
   "metadata": {},
   "outputs": [],
   "source": [
    "mean_close=tsla_dataframe.Close.mean()\n",
    "std_close=tsla_dataframe.Close.std()\n",
    "tsla_data_without_outlier=tsla_dataframe[(tsla_dataframe.Close >2*(mean_close-std_close)) & (tsla_dataframe.Close <2*(mean_close+std_close))]"
   ]
  },
  {
   "cell_type": "markdown",
   "id": "54c979b4",
   "metadata": {},
   "source": [
    "## 7- Display data without Outlier."
   ]
  },
  {
   "cell_type": "code",
   "execution_count": 12,
   "id": "43836b0e",
   "metadata": {},
   "outputs": [
    {
     "data": {
      "text/plain": [
       "<Axes: xlabel='Close', ylabel='Count'>"
      ]
     },
     "execution_count": 12,
     "metadata": {},
     "output_type": "execute_result"
    },
    {
     "data": {
      "image/png": "[encoded data removed]",
      "text/plain": [
       "<Figure size 640x480 with 1 Axes>"
      ]
     },
     "metadata": {},
     "output_type": "display_data"
    }
   ],
   "source": [
    "sb.histplot(data=tsla_data_without_outlier,x=\"Close\",kde=True)"
   ]
  },
  {
   "cell_type": "code",
   "execution_count": null,
   "id": "1c09598e",
   "metadata": {},
   "outputs": [],
   "source": []
  }
 ],
 "metadata": {
  "kernelspec": {
   "display_name": "Python 3 (ipykernel)",
   "language": "python",
   "name": "python3"
  },
  "language_info": {
   "codemirror_mode": {
    "name": "ipython",
    "version": 3
   },
   "file_extension": ".py",
   "mimetype": "text/x-python",
   "name": "python",
   "nbconvert_exporter": "python",
   "pygments_lexer": "ipython3",
   "version": "3.11.5"
  }
 },
 "nbformat": 4,
 "nbformat_minor": 5
}
